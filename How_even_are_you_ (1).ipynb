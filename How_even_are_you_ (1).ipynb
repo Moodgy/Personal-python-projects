{
  "nbformat": 4,
  "nbformat_minor": 0,
  "metadata": {
    "colab": {
      "provenance": []
    },
    "kernelspec": {
      "name": "python3",
      "display_name": "Python 3"
    },
    "language_info": {
      "name": "python"
    }
  },
  "cells": [
    {
      "cell_type": "code",
      "execution_count": null,
      "metadata": {
        "colab": {
          "base_uri": "https://localhost:8080/"
        },
        "id": "kRPFVw105rVk",
        "outputId": "b3cf87da-ab2e-4c63-941b-5873869c75b6"
      },
      "outputs": [
        {
          "output_type": "stream",
          "name": "stdout",
          "text": [
            "6\n",
            "Even\n"
          ]
        }
      ],
      "source": [
        "x = int(input())\n",
        "\n",
        "\n",
        "\n",
        "if  x % 2 == 0:\n",
        "  print(\"Even\")\n",
        "\n",
        "else:\n",
        "  print(\"Odd\")"
      ]
    }
  ]
}