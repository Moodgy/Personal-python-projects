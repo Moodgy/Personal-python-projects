{
  "nbformat": 4,
  "nbformat_minor": 0,
  "metadata": {
    "colab": {
      "provenance": []
    },
    "kernelspec": {
      "name": "python3",
      "display_name": "Python 3"
    },
    "language_info": {
      "name": "python"
    }
  },
  "cells": [
    {
      "cell_type": "code",
      "execution_count": null,
      "metadata": {
        "colab": {
          "base_uri": "https://localhost:8080/"
        },
        "id": "wSdoTnr2tSdA",
        "outputId": "aa7640c4-59bc-4a63-eeb1-b838f16bcfef"
      },
      "outputs": [
        {
          "output_type": "stream",
          "name": "stdout",
          "text": [
            "choose rock, paper, or scissors ///  paper\n",
            "You lost!, scissors\n"
          ]
        }
      ],
      "source": [
        "import random\n",
        "\n",
        "\n",
        "opts = [\"rock\",\"paper\",\"scissors\"]\n",
        "comp = random.choice(opts)\n",
        "play = input(\"choose rock, paper, or scissors ///  \")\n",
        "\n",
        "if comp == \"rock\" and play == \"paper\":\n",
        "    print(f\"congrats you won! The computer picked: {comp}\")\n",
        "\n",
        "elif comp == \"paper\" and play == \"scissors\":\n",
        "      print(f\"congrats you won! the computer picked: {comp}\")\n",
        "\n",
        "elif comp == \"scissors\" and play == \"rock\":\n",
        "      print(f\"congrats you won! the computer picked: {comp}\")\n",
        "elif comp == \"rock\" and play == \"scissors\":\n",
        "      print(f\"You lost! The computer picked: {comp}\")\n",
        "elif comp == \"scissors\" and play == \"paper\":\n",
        "    print(f\"You lost!, {comp}\")\n",
        "\n",
        "elif comp == \"scissors\" and play == \"scissors\":\n",
        "    print(f\"You Tied! The computer picked: {comp}\")\n",
        "\n",
        "elif comp == \"paper\" and play == \"paper\":\n",
        "    print(f\"You Tied! The computer picked: {comp}\")\n",
        "\n",
        "elif comp == \"rock\" and play == \"rock\":\n",
        "    print(f\"You Tied! The computer picked: {comp}\")"
      ]
    }
  ]
}