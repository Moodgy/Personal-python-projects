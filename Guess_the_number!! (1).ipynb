{
  "nbformat": 4,
  "nbformat_minor": 0,
  "metadata": {
    "colab": {
      "provenance": []
    },
    "kernelspec": {
      "name": "python3",
      "display_name": "Python 3"
    },
    "language_info": {
      "name": "python"
    }
  },
  "cells": [
    {
      "cell_type": "code",
      "execution_count": null,
      "metadata": {
        "colab": {
          "base_uri": "https://localhost:8080/"
        },
        "id": "LEacGiQf9PgK",
        "outputId": "9eb23801-c317-4a37-cda4-9c3f42f37133"
      },
      "outputs": [
        {
          "output_type": "stream",
          "name": "stdout",
          "text": [
            "Guess the number between 1 and 10: 6\n",
            "Too high!\n",
            "Guess the number between 1 and 10: 4\n",
            "Too low!\n",
            "Hint: The number is odd.\n",
            "Guess the number between 1 and 10: 5\n",
            "Congratulations! You guessed the number.\n"
          ]
        }
      ],
      "source": [
        "import random\n",
        "\n",
        "number = random.randint(1, 10)\n",
        "guesses_left = 3\n",
        "\n",
        "while guesses_left > 0:\n",
        "    guess = int(input(\"Guess the number between 1 and 10: \"))\n",
        "\n",
        "    if guess == number:\n",
        "        print(\"Congratulations! You guessed the number.\")\n",
        "        break\n",
        "    elif guess < number:\n",
        "        print(\"Too low!\")\n",
        "    else:\n",
        "        print(\"Too high!\")\n",
        "\n",
        "    # Provide hints\n",
        "    if guesses_left == 2:\n",
        "        if number % 2 == 0:\n",
        "            print(\"Hint: The number is even.\")\n",
        "        else:\n",
        "            print(\"Hint: The number is odd.\")\n",
        "    elif guesses_left == 1:\n",
        "        if number < 2:\n",
        "            print(\"Hint: The number is not prime.\")\n",
        "        else:\n",
        "            is_prime = True\n",
        "            for i in range(2, number):\n",
        "                if number % i == 0:\n",
        "                    is_prime = False\n",
        "                    break\n",
        "            if is_prime:\n",
        "                print(\"Hint: The number is prime.\")\n",
        "            else:\n",
        "                print(\"Hint: The number is composite.\")\n",
        "\n",
        "    guesses_left -= 1\n",
        "\n",
        "if guesses_left == 0:\n",
        "    print(\"Sorry, you ran out of guesses. The number was\", number)\n"
      ]
    }
  ]
}