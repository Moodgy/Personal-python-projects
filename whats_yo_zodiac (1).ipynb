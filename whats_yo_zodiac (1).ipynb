{
  "nbformat": 4,
  "nbformat_minor": 0,
  "metadata": {
    "colab": {
      "provenance": []
    },
    "kernelspec": {
      "name": "python3",
      "display_name": "Python 3"
    },
    "language_info": {
      "name": "python"
    }
  },
  "cells": [
    {
      "cell_type": "code",
      "execution_count": null,
      "metadata": {
        "colab": {
          "base_uri": "https://localhost:8080/"
        },
        "id": "wGP5gQmN6mc-",
        "outputId": "a3bde415-6473-4980-a920-1a8dcaadb8f0"
      },
      "outputs": [
        {
          "output_type": "stream",
          "name": "stdout",
          "text": [
            "What month were you born in? (Enter a number from 1-12) 11\n",
            "What day of the month were you born on? 21\n",
            "Your zodiac sign is: Scorpio\n"
          ]
        }
      ],
      "source": [
        "\n",
        "birth_month = int(input(\"What month were you born in? (Enter a number from 1-12) \"))\n",
        "birth_day = int(input(\"What day of the month were you born on? \"))\n",
        "\n",
        "if (birth_month == 1 and birth_day >= 20) or (birth_month == 2 and birth_day <= 18):\n",
        "    zodiac_sign = \"Aquarius\"\n",
        "elif (birth_month == 2 and birth_day >= 19) or (birth_month == 3 and birth_day <= 20):\n",
        "    zodiac_sign = \"Pisces\"\n",
        "elif (birth_month == 3 and birth_day >= 21) or (birth_month == 4 and birth_day <= 19):\n",
        "    zodiac_sign = \"Aries\"\n",
        "elif (birth_month == 4 and birth_day >= 20) or (birth_month == 5 and birth_day <= 20):\n",
        "    zodiac_sign = \"Taurus\"\n",
        "elif (birth_month == 5 and birth_day >= 21) or (birth_month == 6 and birth_day <= 20):\n",
        "    zodiac_sign = \"Gemini\"\n",
        "elif (birth_month == 6 and birth_day >= 21) or (birth_month == 7 and birth_day <= 22):\n",
        "    zodiac_sign = \"Cancer\"\n",
        "elif (birth_month == 7 and birth_day >= 23) or (birth_month == 8 and birth_day <= 22):\n",
        "    zodiac_sign = \"Leo\"\n",
        "elif (birth_month == 8 and birth_day >= 23) or (birth_month == 9 and birth_day <= 22):\n",
        "    zodiac_sign = \"Virgo\"\n",
        "elif (birth_month == 9 and birth_day >= 23) or (birth_month == 10 and birth_day <= 22):\n",
        "    zodiac_sign = \"Libra\"\n",
        "elif (birth_month == 10 and birth_day >= 23) or (birth_month == 11 and birth_day <= 21):\n",
        "    zodiac_sign = \"Scorpio\"\n",
        "elif (birth_month == 11 and birth_day >= 22) or (birth_month == 12 and birth_day <= 21):\n",
        "    zodiac_sign = \"Sagittarius\"\n",
        "else:\n",
        "    zodiac_sign = \"Capricorn\"\n",
        "\n",
        "# Print the zodiac sign\n",
        "print(\"Your zodiac sign is:\", zodiac_sign)\n"
      ]
    }
  ]
}