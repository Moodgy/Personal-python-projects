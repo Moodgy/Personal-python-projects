{
 "cells": [
  {
   "cell_type": "code",
   "execution_count": 25,
   "id": "661a1b9c",
   "metadata": {},
   "outputs": [
    {
     "name": "stdout",
     "output_type": "stream",
     "text": [
      "Please enter your name : mohamed\n",
      "Please enter second person's name : 7\n",
      "['Affectionate', 'Marriage', 'Enemies', 'siblings', 'Friends']\n",
      "['siblings', 'Friends', 'Affectionate', 'Marriage']\n",
      "['Affectionate', 'siblings']\n",
      "Your relationship with the second person is :  Affectionate\n"
     ]
    }
   ],
   "source": [
    "def flames(n1,n2):\n",
    "    for i in n1:\n",
    "        for j in n2:\n",
    "            if i == j:\n",
    "                n1 = n1.replace(i,\"\",1)\n",
    "                n2 = n2.replace(j,\"\",1)\n",
    "    n3 = len(n1+n2)\n",
    "    return n3\n",
    "x = input(\"Please enter your name : \")\n",
    "y = input(\"Please enter second person's name : \")\n",
    "z = flames(x,y)\n",
    "if z >= 0:\n",
    "    flameslist = [\"Friends\", \"Lovers\", \"Affectionate\", \"Marriage\", \"Enemies\", \"siblings\"]\n",
    "    while len(flameslist) > 1:\n",
    "        count = z % len(flameslist)\n",
    "        split = count - 1\n",
    "        if split >= 0:\n",
    "            right = flameslist[split+1:]\n",
    "            left = flameslist[:split]\n",
    "            flameslist = right + left\n",
    "            print(flameslist)\n",
    "        else:\n",
    "            flameslist = flameslist[:len(flameslist)-1]\n",
    "    print(\"Your relationship with the second person is : \", flameslist[0])\n",
    "\n",
    "else:\n",
    "    \n",
    "    print(\"enter other names\")\n",
    "\n"
   ]
  },
  {
   "cell_type": "code",
   "execution_count": 4,
   "id": "3ea16836",
   "metadata": {},
   "outputs": [
    {
     "name": "stdout",
     "output_type": "stream",
     "text": [
      "Enter the name of Player 1: mohamed\n",
      "Enter the name of Player 2: rand\n",
      "The relationship between mohmed and lia is: Friends\n"
     ]
    }
   ],
   "source": [
    "# FLAMES game implementation in Python\n",
    "\n",
    "# function to remove common characters from two strings\n",
    "def remove_common_chars(s1, s2):\n",
    "    for char in s1:\n",
    "        if char in s2:\n",
    "            s1 = s1.replace(char, '', 1)\n",
    "            s2 = s2.replace(char, '', 1)\n",
    "    return s1, s2\n",
    "\n",
    "# main function to play the game\n",
    "def play_flames():\n",
    "    # get the names of the two players\n",
    "    player1 = input(\"Enter the name of Player 1: \").lower()\n",
    "    player2 = input(\"Enter the name of Player 2: \").lower()\n",
    "\n",
    "    # remove common characters from the names\n",
    "    player1, player2 = remove_common_chars(player1, player2)\n",
    "\n",
    "    # calculate the FLAMES index\n",
    "    flames_index = len(player1 + player2)\n",
    "\n",
    "    # define the FLAMES mapping\n",
    "    flames_mapping = [\"Friends\", \"Lovers\", \"Affection\", \"Marriage\", \"Engaged\", \"Siblings\"]\n",
    "\n",
    "    # play the game until only one outcome remains\n",
    "    while len(flames_mapping) > 1:\n",
    "        flames_index = flames_index % len(flames_mapping)\n",
    "        if flames_index == 0:\n",
    "            flames_index = len(flames_mapping)\n",
    "        flames_mapping.pop(flames_index - 1)\n",
    "        flames_index += len(player1 + player2)\n",
    "\n",
    "    # print the result\n",
    "    print(\"The relationship between %s and %s is: %s\" % (player1, player2, flames_mapping[0]))\n",
    "\n",
    "# call the main function to start the game\n",
    "play_flames()\n"
   ]
  },
  {
   "cell_type": "code",
   "execution_count": 1,
   "id": "84310fe2",
   "metadata": {},
   "outputs": [],
   "source": [
    "from tkinter import *\n",
    "\n",
    "# Create a function to play FLAMES\n",
    "def play_flames():\n",
    "    name1 = name1_entry.get().lower().replace(' ', '')\n",
    "    name2 = name2_entry.get().lower().replace(' ', '')\n",
    "    \n",
    "    for char in name1:\n",
    "        if char in name2:\n",
    "            name1 = name1.replace(char, '', 1)\n",
    "            name2 = name2.replace(char, '', 1)\n",
    "            \n",
    "    count = len(name1) + len(name2)\n",
    "    \n",
    "    flames = ['Friends', 'Lovers', 'Angry', 'Marriage', 'Engaged', 'Siblings']\n",
    "    \n",
    "    while len(flames) > 1:\n",
    "        split_index = (count - 1) % len(flames)\n",
    "        flames = flames[split_index+1:] + flames[:split_index]\n",
    "        \n",
    "    flames_label.config(text=flames[0])\n",
    "\n",
    "# Create a GUI window\n",
    "root = Tk()\n",
    "root.title('FLAMES')\n",
    "\n",
    "# Create entry boxes for the names\n",
    "name1_label = Label(root, text='Name 1:')\n",
    "name1_label.grid(row=0, column=0)\n",
    "\n",
    "name1_entry = Entry(root, width=20)\n",
    "name1_entry.grid(row=0, column=1)\n",
    "\n",
    "name2_label = Label(root, text='Name 2:')\n",
    "name2_label.grid(row=1, column=0)\n",
    "\n",
    "name2_entry = Entry(root, width=20)\n",
    "name2_entry.grid(row=1, column=1)\n",
    "\n",
    "# Create a button to play FLAMES\n",
    "play_button = Button(root, text='Play', command=play_flames)\n",
    "play_button.grid(row=2, column=1)\n",
    "\n",
    "# Create a label to display the result\n",
    "flames_label = Label(root, text='')\n",
    "flames_label.grid(row=3, column=1)\n",
    "\n",
    "root.mainloop()\n"
   ]
  },
  {
   "cell_type": "code",
   "execution_count": null,
   "id": "11a0d823",
   "metadata": {},
   "outputs": [],
   "source": []
  }
 ],
 "metadata": {
  "kernelspec": {
   "display_name": "Python 3 (ipykernel)",
   "language": "python",
   "name": "python3"
  },
  "language_info": {
   "codemirror_mode": {
    "name": "ipython",
    "version": 3
   },
   "file_extension": ".py",
   "mimetype": "text/x-python",
   "name": "python",
   "nbconvert_exporter": "python",
   "pygments_lexer": "ipython3",
   "version": "3.10.9"
  }
 },
 "nbformat": 4,
 "nbformat_minor": 5
}
