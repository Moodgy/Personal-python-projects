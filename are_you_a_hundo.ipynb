{
  "nbformat": 4,
  "nbformat_minor": 0,
  "metadata": {
    "colab": {
      "provenance": []
    },
    "kernelspec": {
      "name": "python3",
      "display_name": "Python 3"
    },
    "language_info": {
      "name": "python"
    }
  },
  "cells": [
    {
      "cell_type": "code",
      "execution_count": null,
      "metadata": {
        "colab": {
          "base_uri": "https://localhost:8080/"
        },
        "id": "2o2LpStv4wnB",
        "outputId": "cd32ba6d-d043-4224-8601-afdcd94191fc"
      },
      "outputs": [
        {
          "output_type": "stream",
          "name": "stdout",
          "text": [
            "How old are you? 12\n",
            "you are 88 years from a 100 years old\n"
          ]
        }
      ],
      "source": [
        "age = int(input(\"How old are you? \"))\n",
        "almostthere = 100 - age\n",
        "\n",
        "if age == 100:\n",
        "  print(\"congratulations you are 100 years old\")\n",
        "else:\n",
        "  print(f\"you are {almostthere} years from a 100 years old\")"
      ]
    }
  ]
}