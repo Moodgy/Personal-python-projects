{
  "nbformat": 4,
  "nbformat_minor": 0,
  "metadata": {
    "colab": {
      "provenance": []
    },
    "kernelspec": {
      "name": "python3",
      "display_name": "Python 3"
    },
    "language_info": {
      "name": "python"
    }
  },
  "cells": [
    {
      "cell_type": "code",
      "execution_count": null,
      "metadata": {
        "colab": {
          "base_uri": "https://localhost:8080/"
        },
        "id": "WIFT6_06BnB_",
        "outputId": "342c04bf-1eca-4180-9034-e9d27896db06"
      },
      "outputs": [
        {
          "output_type": "stream",
          "name": "stdout",
          "text": [
            "boshra\n",
            "boshr\n"
          ]
        }
      ],
      "source": [
        "vowels = \"aeiouAEIOU\"\n",
        "vowelchecker = input()\n",
        "\n",
        "for char in vowelchecker:\n",
        "    if char in vowels:\n",
        "        vheybro = vowelchecker.replace(char, \"\")\n",
        "\n",
        "print(vheybro)  # Output: \"\""
      ]
    },
    {
      "cell_type": "code",
      "source": [],
      "metadata": {
        "id": "liqTbMHwB5uL"
      },
      "execution_count": null,
      "outputs": []
    }
  ]
}